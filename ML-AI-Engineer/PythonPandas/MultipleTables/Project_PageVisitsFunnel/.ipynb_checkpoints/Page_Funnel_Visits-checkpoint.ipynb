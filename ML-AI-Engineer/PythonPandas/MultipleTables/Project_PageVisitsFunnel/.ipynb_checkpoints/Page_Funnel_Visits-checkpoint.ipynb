{
 "cells": [
  {
   "cell_type": "code",
   "execution_count": 1,
   "metadata": {},
   "outputs": [],
   "source": [
    "import pandas as pd"
   ]
  },
  {
   "cell_type": "markdown",
   "metadata": {},
   "source": [
    "Import all the files"
   ]
  },
  {
   "cell_type": "code",
   "execution_count": 2,
   "metadata": {},
   "outputs": [],
   "source": [
    "visits = pd.read_csv('visits.csv',\n",
    "                     parse_dates=[1])\n",
    "cart = pd.read_csv('cart.csv',\n",
    "                   parse_dates=[1])\n",
    "                   \n",
    "checkout = pd.read_csv('checkout.csv',\n",
    "                       parse_dates=[1])\n",
    "purchase = pd.read_csv('purchase.csv',\n",
    "                       parse_dates=[1])"
   ]
  },
  {
   "cell_type": "markdown",
   "metadata": {},
   "source": [
    "Step 1: Inspect the DataFrames using `print` and `head`"
   ]
  },
  {
   "cell_type": "code",
   "execution_count": 3,
   "metadata": {},
   "outputs": [
    {
     "name": "stdout",
     "output_type": "stream",
     "text": [
      "                                user_id          visit_time\n",
      "0  943647ef-3682-4750-a2e1-918ba6f16188 2017-04-07 15:14:00\n",
      "1  0c3a3dd0-fb64-4eac-bf84-ba069ce409f2 2017-01-26 14:24:00\n",
      "2  6e0b2d60-4027-4d9a-babd-0e7d40859fb1 2017-08-20 08:23:00\n",
      "3  6879527e-c5a6-4d14-b2da-50b85212b0ab 2017-11-04 18:15:00\n",
      "4  a84327ff-5daa-4ba1-b789-d5b4caf81e96 2017-02-27 11:25:00\n",
      "                                user_id           cart_time\n",
      "0  2be90e7c-9cca-44e0-bcc5-124b945ff168 2017-11-07 20:45:00\n",
      "1  4397f73f-1da3-4ab3-91af-762792e25973 2017-05-27 01:35:00\n",
      "2  a9db3d4b-0a0a-4398-a55a-ebb2c7adf663 2017-03-04 10:38:00\n",
      "3  b594862a-36c5-47d5-b818-6e9512b939b3 2017-09-27 08:22:00\n",
      "4  a68a16e2-94f0-4ce8-8ce3-784af0bbb974 2017-07-26 15:48:00\n",
      "                                user_id       checkout_time\n",
      "0  d33bdc47-4afa-45bc-b4e4-dbe948e34c0d 2017-06-25 09:29:00\n",
      "1  4ac186f0-9954-4fea-8a27-c081e428e34e 2017-04-07 20:11:00\n",
      "2  3c9c78a7-124a-4b77-8d2e-e1926e011e7d 2017-07-13 11:38:00\n",
      "3  89fe330a-8966-4756-8f7c-3bdbcd47279a 2017-04-20 16:15:00\n",
      "4  3ccdaf69-2d30-40de-b083-51372881aedd 2017-01-08 20:52:00\n",
      "                                user_id       purchase_time\n",
      "0  4b44ace4-2721-47a0-b24b-15fbfa2abf85 2017-05-11 04:25:00\n",
      "1  02e684ae-a448-408f-a9ff-dcb4a5c99aac 2017-09-05 08:45:00\n",
      "2  4b4bc391-749e-4b90-ab8f-4f6e3c84d6dc 2017-11-20 20:49:00\n",
      "3  a5dbb25f-3c36-4103-9030-9f7c6241cd8d 2017-01-22 15:18:00\n",
      "4  46a3186d-7f5a-4ab9-87af-84d05bfd4867 2017-06-11 11:32:00\n"
     ]
    }
   ],
   "source": [
    "print(visits.head(5))\n",
    "print(cart.head(5))\n",
    "print(checkout.head(5))\n",
    "print(purchase.head(5))"
   ]
  },
  {
   "cell_type": "markdown",
   "metadata": {},
   "source": [
    "Step 2: Left merging visits and cart"
   ]
  },
  {
   "cell_type": "code",
   "execution_count": 4,
   "metadata": {},
   "outputs": [
    {
     "name": "stdout",
     "output_type": "stream",
     "text": [
      "                                   user_id          visit_time  \\\n",
      "0     943647ef-3682-4750-a2e1-918ba6f16188 2017-04-07 15:14:00   \n",
      "1     0c3a3dd0-fb64-4eac-bf84-ba069ce409f2 2017-01-26 14:24:00   \n",
      "2     6e0b2d60-4027-4d9a-babd-0e7d40859fb1 2017-08-20 08:23:00   \n",
      "3     6879527e-c5a6-4d14-b2da-50b85212b0ab 2017-11-04 18:15:00   \n",
      "4     a84327ff-5daa-4ba1-b789-d5b4caf81e96 2017-02-27 11:25:00   \n",
      "...                                    ...                 ...   \n",
      "1995  33913ac2-03da-45ae-8fc3-fea39df827c6 2017-03-25 03:29:00   \n",
      "1996  4f850132-b99d-4623-80e6-6e61d003577e 2017-01-08 09:57:00   \n",
      "1997  f0830b9b-1f5c-4e74-b63d-3f847cc6ce70 2017-09-07 12:56:00   \n",
      "1998  b01bffa7-63ba-4cd3-9d93-eb1477c23831 2017-07-20 04:37:00   \n",
      "1999  0336ca81-8d68-443f-9248-ac0b8ad147d5 2017-11-15 10:11:00   \n",
      "\n",
      "               cart_time  \n",
      "0                    NaT  \n",
      "1    2017-01-26 14:44:00  \n",
      "2    2017-08-20 08:31:00  \n",
      "3                    NaT  \n",
      "4                    NaT  \n",
      "...                  ...  \n",
      "1995                 NaT  \n",
      "1996                 NaT  \n",
      "1997                 NaT  \n",
      "1998                 NaT  \n",
      "1999                 NaT  \n",
      "\n",
      "[2000 rows x 3 columns]\n"
     ]
    }
   ],
   "source": [
    "visits_cart = pd.merge(visits, cart, how=\"left\")\n",
    "print(visits_cart)"
   ]
  },
  {
   "cell_type": "markdown",
   "metadata": {},
   "source": [
    "Step 3: How long is `visits_cart`?"
   ]
  },
  {
   "cell_type": "code",
   "execution_count": 5,
   "metadata": {},
   "outputs": [
    {
     "name": "stdout",
     "output_type": "stream",
     "text": [
      "2000\n"
     ]
    }
   ],
   "source": [
    "print(len(visits_cart))"
   ]
  },
  {
   "cell_type": "markdown",
   "metadata": {},
   "source": [
    "Step 4: How many timestamps are null for `cart_time`?"
   ]
  },
  {
   "cell_type": "code",
   "execution_count": 6,
   "metadata": {},
   "outputs": [
    {
     "name": "stdout",
     "output_type": "stream",
     "text": [
      "1652\n"
     ]
    }
   ],
   "source": [
    "print(len(visits_cart[pd.isna(visits_cart.cart_time)]))"
   ]
  },
  {
   "cell_type": "markdown",
   "metadata": {},
   "source": [
    "Step 5: What percentage only visited?"
   ]
  },
  {
   "cell_type": "code",
   "execution_count": 37,
   "metadata": {},
   "outputs": [
    {
     "data": {
      "text/plain": [
       "82.6"
      ]
     },
     "execution_count": 37,
     "metadata": {},
     "output_type": "execute_result"
    }
   ],
   "source": [
    "pct_only_visit = (float(1652)/2000)*100\n",
    "pct_only_visit"
   ]
  },
  {
   "cell_type": "markdown",
   "metadata": {},
   "source": [
    "Step 6: What percentage placed a t-shirt in their cart but did not checkout?"
   ]
  },
  {
   "cell_type": "code",
   "execution_count": 38,
   "metadata": {},
   "outputs": [
    {
     "name": "stdout",
     "output_type": "stream",
     "text": [
      "                                  user_id           cart_time  \\\n",
      "0    2be90e7c-9cca-44e0-bcc5-124b945ff168 2017-11-07 20:45:00   \n",
      "1    4397f73f-1da3-4ab3-91af-762792e25973 2017-05-27 01:35:00   \n",
      "2    a9db3d4b-0a0a-4398-a55a-ebb2c7adf663 2017-03-04 10:38:00   \n",
      "3    b594862a-36c5-47d5-b818-6e9512b939b3 2017-09-27 08:22:00   \n",
      "4    a68a16e2-94f0-4ce8-8ce3-784af0bbb974 2017-07-26 15:48:00   \n",
      "..                                    ...                 ...   \n",
      "343  952be3a5-9240-484f-845c-a6b2cbed72ee 2017-05-02 05:40:00   \n",
      "344  59d2b685-383a-4fce-a325-35d985713a8b 2017-01-20 03:58:00   \n",
      "345  a1203970-92ae-4fc7-843e-e1740c1be9d5 2017-11-12 23:07:00   \n",
      "346  55de53ae-89f6-43ff-a26d-df284678aca1 2017-03-17 19:56:00   \n",
      "347  0ea4cc68-dae4-4e35-b3e0-f0889932e1b5 2017-05-12 08:53:00   \n",
      "\n",
      "          checkout_time  \n",
      "0   2017-11-07 21:14:00  \n",
      "1                   NaT  \n",
      "2   2017-03-04 11:04:00  \n",
      "3   2017-09-27 08:26:00  \n",
      "4                   NaT  \n",
      "..                  ...  \n",
      "343 2017-05-02 05:50:00  \n",
      "344                 NaT  \n",
      "345                 NaT  \n",
      "346 2017-03-17 20:04:00  \n",
      "347 2017-05-12 08:57:00  \n",
      "\n",
      "[348 rows x 3 columns]\n",
      "35.06% put t-shirt in cart, but did not checkout.\n"
     ]
    }
   ],
   "source": [
    "cart_checkout = pd.merge(cart, checkout, how=\"left\")\n",
    "print(cart_checkout)\n",
    "cart_and_checkout = len(cart_checkout)\n",
    "cart_nocheckout = len(cart_checkout[pd.isna(cart_checkout.checkout_time)])\n",
    "pct_only_cart = round((cart_nocheckout / cart_and_checkout) * 100, 2)\n",
    "print(f\"{pct_only_cart}% put t-shirt in cart, but did not checkout.\")\n"
   ]
  },
  {
   "cell_type": "markdown",
   "metadata": {},
   "source": [
    "Step 7: Merge it all together"
   ]
  },
  {
   "cell_type": "code",
   "execution_count": 15,
   "metadata": {},
   "outputs": [
    {
     "name": "stdout",
     "output_type": "stream",
     "text": [
      "                                user_id          visit_time  \\\n",
      "0  943647ef-3682-4750-a2e1-918ba6f16188 2017-04-07 15:14:00   \n",
      "1  0c3a3dd0-fb64-4eac-bf84-ba069ce409f2 2017-01-26 14:24:00   \n",
      "2  6e0b2d60-4027-4d9a-babd-0e7d40859fb1 2017-08-20 08:23:00   \n",
      "3  6879527e-c5a6-4d14-b2da-50b85212b0ab 2017-11-04 18:15:00   \n",
      "4  a84327ff-5daa-4ba1-b789-d5b4caf81e96 2017-02-27 11:25:00   \n",
      "\n",
      "            cart_time       checkout_time       purchase_time  \n",
      "0                 NaT                 NaT                 NaT  \n",
      "1 2017-01-26 14:44:00 2017-01-26 14:54:00 2017-01-26 15:08:00  \n",
      "2 2017-08-20 08:31:00                 NaT                 NaT  \n",
      "3                 NaT                 NaT                 NaT  \n",
      "4                 NaT                 NaT                 NaT                                      user_id          visit_time cart_time  \\\n",
      "2103  33913ac2-03da-45ae-8fc3-fea39df827c6 2017-03-25 03:29:00       NaT   \n",
      "2104  4f850132-b99d-4623-80e6-6e61d003577e 2017-01-08 09:57:00       NaT   \n",
      "2105  f0830b9b-1f5c-4e74-b63d-3f847cc6ce70 2017-09-07 12:56:00       NaT   \n",
      "2106  b01bffa7-63ba-4cd3-9d93-eb1477c23831 2017-07-20 04:37:00       NaT   \n",
      "2107  0336ca81-8d68-443f-9248-ac0b8ad147d5 2017-11-15 10:11:00       NaT   \n",
      "\n",
      "     checkout_time purchase_time  \n",
      "2103           NaT           NaT  \n",
      "2104           NaT           NaT  \n",
      "2105           NaT           NaT  \n",
      "2106           NaT           NaT  \n",
      "2107           NaT           NaT   user_id                  object\n",
      "visit_time       datetime64[ns]\n",
      "cart_time        datetime64[ns]\n",
      "checkout_time    datetime64[ns]\n",
      "purchase_time    datetime64[ns]\n",
      "dtype: object\n"
     ]
    }
   ],
   "source": [
    "all_data = visits.merge(cart, how='left').merge(checkout, how='left').merge(purchase, how='left')\n",
    "print(all_data.head(), all_data.tail(), all_data.dtypes)"
   ]
  },
  {
   "cell_type": "markdown",
   "metadata": {},
   "source": [
    "Step 8: % of users who got to checkout but did not purchase"
   ]
  },
  {
   "cell_type": "code",
   "execution_count": 39,
   "metadata": {},
   "outputs": [
    {
     "name": "stdout",
     "output_type": "stream",
     "text": [
      "Total checkout: 334\n",
      "Checkout no purchase: 82 (24.55%)\n"
     ]
    }
   ],
   "source": [
    "total_checkout = all_data[all_data.checkout_time.notnull()]\n",
    "total_nopurchase_checkout = total_checkout[total_checkout.purchase_time.isnull()]\n",
    "pct_only_checkout = round((len(total_nopurchase_checkout) / len(total_checkout))*100, 2)\n",
    "print(f\"Total checkout: {len(total_checkout)}\\nCheckout no purchase: {len(total_nopurchase_checkout)} ({pct_only_checkout}%)\")"
   ]
  },
  {
   "cell_type": "markdown",
   "metadata": {},
   "source": [
    "Step 9: check each part of the funnel, let's print all 3 of them again"
   ]
  },
  {
   "cell_type": "code",
   "execution_count": 40,
   "metadata": {},
   "outputs": [
    {
     "data": {
      "text/plain": [
       "(82.6, 35.06, 24.55)"
      ]
     },
     "execution_count": 40,
     "metadata": {},
     "output_type": "execute_result"
    }
   ],
   "source": [
    "pct_only_visit, pct_only_cart, pct_only_checkout"
   ]
  },
  {
   "cell_type": "markdown",
   "metadata": {},
   "source": [
    "*The weakest part of the funnel is clearly getting a person who visited the site to add a tshirt to their cart. Once they've added a t-shirt to their cart it is fairly likely they end up purchasing it. A suggestion could be to make the add-to-cart button more prominent on the front page.*\n",
    "\n",
    "\n",
    "Step 10: adding new column"
   ]
  },
  {
   "cell_type": "code",
   "execution_count": 50,
   "metadata": {},
   "outputs": [
    {
     "name": "stdout",
     "output_type": "stream",
     "text": [
      "                                   user_id          visit_time  \\\n",
      "0     943647ef-3682-4750-a2e1-918ba6f16188 2017-04-07 15:14:00   \n",
      "1     0c3a3dd0-fb64-4eac-bf84-ba069ce409f2 2017-01-26 14:24:00   \n",
      "2     6e0b2d60-4027-4d9a-babd-0e7d40859fb1 2017-08-20 08:23:00   \n",
      "3     6879527e-c5a6-4d14-b2da-50b85212b0ab 2017-11-04 18:15:00   \n",
      "4     a84327ff-5daa-4ba1-b789-d5b4caf81e96 2017-02-27 11:25:00   \n",
      "...                                    ...                 ...   \n",
      "2103  33913ac2-03da-45ae-8fc3-fea39df827c6 2017-03-25 03:29:00   \n",
      "2104  4f850132-b99d-4623-80e6-6e61d003577e 2017-01-08 09:57:00   \n",
      "2105  f0830b9b-1f5c-4e74-b63d-3f847cc6ce70 2017-09-07 12:56:00   \n",
      "2106  b01bffa7-63ba-4cd3-9d93-eb1477c23831 2017-07-20 04:37:00   \n",
      "2107  0336ca81-8d68-443f-9248-ac0b8ad147d5 2017-11-15 10:11:00   \n",
      "\n",
      "               cart_time       checkout_time       purchase_time  \\\n",
      "0                    NaT                 NaT                 NaT   \n",
      "1    2017-01-26 14:44:00 2017-01-26 14:54:00 2017-01-26 15:08:00   \n",
      "2    2017-08-20 08:31:00                 NaT                 NaT   \n",
      "3                    NaT                 NaT                 NaT   \n",
      "4                    NaT                 NaT                 NaT   \n",
      "...                  ...                 ...                 ...   \n",
      "2103                 NaT                 NaT                 NaT   \n",
      "2104                 NaT                 NaT                 NaT   \n",
      "2105                 NaT                 NaT                 NaT   \n",
      "2106                 NaT                 NaT                 NaT   \n",
      "2107                 NaT                 NaT                 NaT   \n",
      "\n",
      "     time_to_purchase  \n",
      "0                 NaT  \n",
      "1     0 days 00:44:00  \n",
      "2                 NaT  \n",
      "3                 NaT  \n",
      "4                 NaT  \n",
      "...               ...  \n",
      "2103              NaT  \n",
      "2104              NaT  \n",
      "2105              NaT  \n",
      "2106              NaT  \n",
      "2107              NaT  \n",
      "\n",
      "[2108 rows x 6 columns]                                    user_id          visit_time  \\\n",
      "1     0c3a3dd0-fb64-4eac-bf84-ba069ce409f2 2017-01-26 14:24:00   \n",
      "14    486480e2-98c3-4d51-8f4b-b1c07228ce84 2017-01-27 16:34:00   \n",
      "48    3ccdaf69-2d30-40de-b083-51372881aedd 2017-01-08 20:21:00   \n",
      "49    3ccdaf69-2d30-40de-b083-51372881aedd 2017-01-08 20:21:00   \n",
      "65    ab0125fc-9493-4f59-ad70-24ad264a3a0c 2017-11-18 03:21:00   \n",
      "...                                    ...                 ...   \n",
      "2083  d2cb350b-2201-4290-b2e0-84a8bf0d6883 2017-08-08 16:05:00   \n",
      "2093  f46c88d0-2441-40a8-97fe-6841ff6f050d 2017-09-06 08:42:00   \n",
      "2097  f783c680-1d9a-437d-9f45-7827299b78fa 2017-06-25 08:07:00   \n",
      "2098  f783c680-1d9a-437d-9f45-7827299b78fa 2017-06-25 08:07:00   \n",
      "2099  f783c680-1d9a-437d-9f45-7827299b78fa 2017-06-25 08:07:00   \n",
      "\n",
      "               cart_time       checkout_time       purchase_time  \\\n",
      "1    2017-01-26 14:44:00 2017-01-26 14:54:00 2017-01-26 15:08:00   \n",
      "14   2017-01-27 16:44:00 2017-01-27 17:10:00 2017-01-27 17:12:00   \n",
      "48   2017-01-08 20:38:00 2017-01-08 20:52:00 2017-01-08 21:02:00   \n",
      "49   2017-01-08 20:38:00 2017-01-08 20:52:00 2017-01-08 21:21:00   \n",
      "65   2017-11-18 03:33:00 2017-11-18 03:57:00 2017-11-18 04:21:00   \n",
      "...                  ...                 ...                 ...   \n",
      "2083 2017-08-08 16:07:00 2017-08-08 16:34:00 2017-08-08 16:34:00   \n",
      "2093 2017-09-06 09:02:00 2017-09-06 09:22:00 2017-09-06 09:28:00   \n",
      "2097 2017-06-25 08:08:00 2017-06-25 08:28:00 2017-06-25 08:39:00   \n",
      "2098 2017-06-25 08:08:00 2017-06-25 08:28:00 2017-06-25 08:35:00   \n",
      "2099 2017-06-25 08:08:00 2017-06-25 08:28:00 2017-06-25 08:18:00   \n",
      "\n",
      "     time_to_purchase  \n",
      "1     0 days 00:44:00  \n",
      "14    0 days 00:38:00  \n",
      "48    0 days 00:41:00  \n",
      "49    0 days 01:00:00  \n",
      "65    0 days 01:00:00  \n",
      "...               ...  \n",
      "2083  0 days 00:29:00  \n",
      "2093  0 days 00:46:00  \n",
      "2097  0 days 00:32:00  \n",
      "2098  0 days 00:28:00  \n",
      "2099  0 days 00:11:00  \n",
      "\n",
      "[252 rows x 6 columns] Avg purchase time: 0 days 00:43:12.380952380\n"
     ]
    }
   ],
   "source": [
    "all_data['time_to_purchase'] = all_data.purchase_time - all_data.visit_time\n",
    "completed_purchase = all_data[all_data.time_to_purchase.notnull()]\n",
    "avg_completed_purchase_time = completed_purchase.time_to_purchase.mean()\n",
    "print(all_data, completed_purchase, f\"Avg purchase time: {avg_completed_purchase_time}\")"
   ]
  },
  {
   "cell_type": "markdown",
   "metadata": {},
   "source": [
    "Step 11: examine the results"
   ]
  },
  {
   "cell_type": "code",
   "execution_count": null,
   "metadata": {},
   "outputs": [],
   "source": []
  },
  {
   "cell_type": "markdown",
   "metadata": {},
   "source": [
    "Step 12: average time to purchase"
   ]
  },
  {
   "cell_type": "code",
   "execution_count": 51,
   "metadata": {},
   "outputs": [
    {
     "data": {
      "text/plain": [
       "Timedelta('0 days 00:43:12.380952380')"
      ]
     },
     "execution_count": 51,
     "metadata": {},
     "output_type": "execute_result"
    }
   ],
   "source": [
    "avg_completed_purchase_time"
   ]
  },
  {
   "cell_type": "code",
   "execution_count": null,
   "metadata": {},
   "outputs": [],
   "source": []
  }
 ],
 "metadata": {
  "kernelspec": {
   "display_name": "Python 3 (ipykernel)",
   "language": "python",
   "name": "python3"
  },
  "language_info": {
   "codemirror_mode": {
    "name": "ipython",
    "version": 3
   },
   "file_extension": ".py",
   "mimetype": "text/x-python",
   "name": "python",
   "nbconvert_exporter": "python",
   "pygments_lexer": "ipython3",
   "version": "3.10.9"
  }
 },
 "nbformat": 4,
 "nbformat_minor": 4
}
