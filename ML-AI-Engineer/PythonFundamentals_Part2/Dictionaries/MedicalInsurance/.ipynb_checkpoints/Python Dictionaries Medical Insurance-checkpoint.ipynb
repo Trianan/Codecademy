{
 "cells": [
  {
   "cell_type": "markdown",
   "id": "506b51bc",
   "metadata": {},
   "source": [
    "# Python Dictionaries: Medical Insurance Project"
   ]
  },
  {
   "cell_type": "markdown",
   "id": "862d76b9",
   "metadata": {},
   "source": [
    "You have been asked to create a program that organizes and updates medical records efficiently.\n",
    "\n",
    "In this project, you will use your new knowledge of Python dictionaries to create a database of medical records for patients.\n",
    "\n",
    "Let's get started!"
   ]
  },
  {
   "cell_type": "markdown",
   "id": "269b7e44",
   "metadata": {},
   "source": [
    "## Storing Patient Names and Insurance Costs"
   ]
  },
  {
   "cell_type": "markdown",
   "id": "ca586fc7",
   "metadata": {},
   "source": [
    "1. We would like to keep a record of medical patients and their insurance costs.\n",
    "\n",
    "   First, create an empty dictionary called `medical_costs`."
   ]
  },
  {
   "cell_type": "code",
   "execution_count": 2,
   "id": "e6df17a2",
   "metadata": {},
   "outputs": [],
   "source": [
    "medical_costs = {}"
   ]
  },
  {
   "cell_type": "markdown",
   "id": "e06605b6",
   "metadata": {},
   "source": [
    "2. Let's populate our `medical_costs` dictionary by adding the following key-value pairs:\n",
    "   - Add `\"Marina\"` to `medical_costs` as a key with a value of `6607.0`.\n",
    "   - Add `\"Vinay\"` to `medical_costs` as a key with a value of `3225.0`."
   ]
  },
  {
   "cell_type": "code",
   "execution_count": 3,
   "id": "dec12f6a",
   "metadata": {},
   "outputs": [],
   "source": [
    "medical_costs['Marina'], medical_costs[\"Vinay\"] = 6607.0, 3225.0"
   ]
  },
  {
   "cell_type": "markdown",
   "id": "a093528d",
   "metadata": {},
   "source": [
    "3. Using one line of code, add the following three patients to the `medical_costs` dictionary:\n",
    "   - `\"Connie\"`, with an insurance cost of `8886.0`.\n",
    "   - `\"Isaac\"`, with an insurance cost of `16444.0`.\n",
    "   - `\"Valentina\"`, with an insurance cost of `6420.0`."
   ]
  },
  {
   "cell_type": "code",
   "execution_count": 4,
   "id": "015d4658",
   "metadata": {},
   "outputs": [],
   "source": [
    "medical_costs.update({\"Connie\": 8886.0, \"Issac\": 16444.0, \"Valentina\": 6420.0})"
   ]
  },
  {
   "cell_type": "markdown",
   "id": "9e2e45fa",
   "metadata": {},
   "source": [
    "4. Print `medical_costs`. Make sure the dictionary is what you expected."
   ]
  },
  {
   "cell_type": "code",
   "execution_count": 5,
   "id": "8b58435b",
   "metadata": {},
   "outputs": [
    {
     "name": "stdout",
     "output_type": "stream",
     "text": [
      "{'Marina': 6607.0, 'Vinay': 3225.0, 'Connie': 8886.0, 'Issac': 16444.0, 'Valentina': 6420.0}\n"
     ]
    }
   ],
   "source": [
    "print(medical_costs)"
   ]
  },
  {
   "cell_type": "markdown",
   "id": "e79e7ee3",
   "metadata": {},
   "source": [
    "5. You notice that `Vinay`'s insurance cost was incorrectly inputted. Update the value associated with `Vinay` to `3325.0`.\n",
    "\n",
    "   Print the updated dictionary."
   ]
  },
  {
   "cell_type": "code",
   "execution_count": 6,
   "id": "8b484f83",
   "metadata": {},
   "outputs": [
    {
     "name": "stdout",
     "output_type": "stream",
     "text": [
      "{'Marina': 6607.0, 'Vinay': 3325.0, 'Connie': 8886.0, 'Issac': 16444.0, 'Valentina': 6420.0}\n"
     ]
    }
   ],
   "source": [
    "medical_costs['Vinay'] = 3325.0\n",
    "print(medical_costs)"
   ]
  },
  {
   "cell_type": "markdown",
   "id": "36d43988",
   "metadata": {},
   "source": [
    "6. Let's calculate the average medical cost of each patient. Create a variable called `total_cost` and set it equal to 0.\n",
    "\n",
    "   Next, iterate through the values in `medical_costs` and add each value to the `total_cost` variable."
   ]
  },
  {
   "cell_type": "code",
   "execution_count": 7,
   "id": "ef636a71",
   "metadata": {},
   "outputs": [
    {
     "name": "stdout",
     "output_type": "stream",
     "text": [
      "Total cost: $41682.0\n"
     ]
    }
   ],
   "source": [
    "total_cost = 0\n",
    "for cost in medical_costs.values():\n",
    "    total_cost += cost\n",
    "print(f\"Total Cost: ${total_cost}\")"
   ]
  },
  {
   "cell_type": "markdown",
   "id": "0dc5e0ba",
   "metadata": {},
   "source": [
    "7. After the loop, create a variable called `average_cost` that stores the `total_cost` divided by the length of the `medical_costs` dictionary.\n",
    "\n",
    "   Print `average_cost` with the following message:\n",
    "   \n",
    "   ```\n",
    "   Average Insurance Cost: {average_cost}\n",
    "   ```"
   ]
  },
  {
   "cell_type": "code",
   "execution_count": 10,
   "id": "a6d83515",
   "metadata": {},
   "outputs": [
    {
     "name": "stdout",
     "output_type": "stream",
     "text": [
      "Average Insurance Cost: $8336.4\n"
     ]
    }
   ],
   "source": [
    "average_cost = total_cost / len(medical_costs)\n",
    "print(f\"Average Insurance Cost: ${average_cost}\")"
   ]
  },
  {
   "cell_type": "markdown",
   "id": "0f603e5b",
   "metadata": {},
   "source": [
    "## List Comprehension to Dictionary"
   ]
  },
  {
   "cell_type": "markdown",
   "id": "b6e9f6f6",
   "metadata": {},
   "source": [
    "8. You have been asked to create a second dictionary that maps patient names to their ages.\n",
    "\n",
    "   First, create two lists called `names` and `ages` with the following data:\n",
    "   \n",
    "   names | ages\n",
    "   --- | ---\n",
    "   Marina | 27\n",
    "   Vinay | 24\n",
    "   Connie | 43\n",
    "   Isaac | 35\n",
    "   Valentina | 52"
   ]
  },
  {
   "cell_type": "code",
   "execution_count": 11,
   "id": "88db2876",
   "metadata": {},
   "outputs": [],
   "source": [
    "names = [\n",
    "    \"Marina\",\n",
    "    \"Vinay\",\n",
    "    \"Connie\",\n",
    "    \"Isaac\",\n",
    "    \"Valentina\"\n",
    "]\n",
    "ages = [27, 24, 43, 35, 52]"
   ]
  },
  {
   "cell_type": "markdown",
   "id": "d213ceb2",
   "metadata": {},
   "source": [
    "9. Next, create a variable called `zipped_ages` that is a zipped list of pairs between the `names` list and the `ages` list."
   ]
  },
  {
   "cell_type": "code",
   "execution_count": 26,
   "id": "eddb66ba",
   "metadata": {},
   "outputs": [
    {
     "name": "stdout",
     "output_type": "stream",
     "text": [
      "[('Marina', 27), ('Vinay', 24), ('Connie', 43), ('Isaac', 35), ('Valentina', 52)]\n"
     ]
    }
   ],
   "source": [
    "zipped_ages = list(zip(names, ages))\n",
    "print(zipped_ages)"
   ]
  },
  {
   "cell_type": "markdown",
   "id": "d0df86ec",
   "metadata": {},
   "source": [
    "10. Create a dictionary called `names_to_ages` by using a list comprehension that iterates through `zipped_ages` and turns each pair into a key : value item.\n",
    "\n",
    "    Print `names_to_ages` to see the result."
   ]
  },
  {
   "cell_type": "code",
   "execution_count": 27,
   "id": "dc760b49",
   "metadata": {},
   "outputs": [
    {
     "name": "stdout",
     "output_type": "stream",
     "text": [
      "{'Marina': 27, 'Vinay': 24, 'Connie': 43, 'Isaac': 35, 'Valentina': 52}\n"
     ]
    }
   ],
   "source": [
    "names_to_ages = {name:age for name, age in zipped_ages}\n",
    "print(names_to_ages)"
   ]
  },
  {
   "cell_type": "markdown",
   "id": "cb598e55",
   "metadata": {},
   "source": [
    "11. Use `.get()` to get the value of Marina's age and store it in a variable called `marina_age`. Use `None` as a default value if the key doesn't exist.\n",
    "\n",
    "    Print `marina_age` with the following message:\n",
    "    \n",
    "    ```\n",
    "    Marina's age is {marina_age}\n",
    "    ```"
   ]
  },
  {
   "cell_type": "code",
   "execution_count": 28,
   "id": "a7c9e288",
   "metadata": {},
   "outputs": [
    {
     "name": "stdout",
     "output_type": "stream",
     "text": [
      "Marina's age is 27\n"
     ]
    }
   ],
   "source": [
    "marina_age = names_to_ages.get('Marina', None)\n",
    "print(f\"Marina's age is {marina_age}\")"
   ]
  },
  {
   "cell_type": "markdown",
   "id": "b96b80f0",
   "metadata": {},
   "source": [
    "## Using a Dictionary to Create a Medical Database"
   ]
  },
  {
   "cell_type": "markdown",
   "id": "4d1e02cf",
   "metadata": {},
   "source": [
    "12. Let's create a third dictionary to represent a database of medical records that contains information such as a patient's name, age, sex, gender, BMI, number of children, smoker status, and insurance cost.\n",
    "\n",
    "    First, create an empty dictionary called `medical_records`."
   ]
  },
  {
   "cell_type": "code",
   "execution_count": 29,
   "id": "768401f1",
   "metadata": {},
   "outputs": [],
   "source": [
    "medical_records = {}"
   ]
  },
  {
   "cell_type": "markdown",
   "id": "a035c911",
   "metadata": {},
   "source": [
    "13. Next, add `\"Marina\"` to `medical_records` as a key with the value being a dictionary of medical data:\n",
    "\n",
    "    ```py\n",
    "    {\"Age\": 27, \"Sex\": \"Female\", \"BMI\": 31.1, \"Children\": 2, \"Smoker\": \"Non-smoker\", \"Insurance_cost\": 6607.0}\n",
    "    ```"
   ]
  },
  {
   "cell_type": "code",
   "execution_count": 30,
   "id": "5f4a0390",
   "metadata": {},
   "outputs": [
    {
     "name": "stdout",
     "output_type": "stream",
     "text": [
      "{'Marina': {'Age': 27, 'Sex': 'Female', 'BMI': 31.1, 'Children': 2, 'Smoker': 'Non-smoker', 'Insurance_cost': 6607.0}}\n"
     ]
    }
   ],
   "source": [
    "medical_records['Marina'] = {\n",
    "    \"Age\": 27,\n",
    "    \"Sex\": \"Female\",\n",
    "    \"BMI\": 31.1,\n",
    "    \"Children\": 2,\n",
    "    \"Smoker\": \"Non-smoker\",\n",
    "    \"Insurance_cost\": 6607.0\n",
    "}\n",
    "print(medical_records)"
   ]
  },
  {
   "cell_type": "markdown",
   "id": "739bac2e",
   "metadata": {},
   "source": [
    "14. Do the same for the following individuals:\n",
    "    \n",
    "    Name | Age | Sex | BMI | Children | Smoker | Insurance Cost\n",
    "    --- | --- | --- | --- | --- | --- | ---\n",
    "    Vinay | 24 | Male | 26.9 | 0 | Non-smoker | 3225.0\n",
    "    Connie | 43 | Female | 25.3 | 3 | Non-smoker | 8886.0\n",
    "    Isaac | 35 | Male | 20.6 | 4 | Smoker | 16444.0\n",
    "    Valentina | 52 | Female | 18.7 | 1 | Non-smoker | 6420.0"
   ]
  },
  {
   "cell_type": "code",
   "execution_count": 32,
   "id": "55de66f6",
   "metadata": {},
   "outputs": [],
   "source": [
    "names = ['Vinay', 'Connie', 'Isaac', 'Valentina']\n",
    "ages = [24, 43, 35, 52]\n",
    "sexes = ['Male', 'Female', 'Male', 'Female']\n",
    "bmis = [26.9, 25.3, 20.6, 18.7]\n",
    "childrens = [0, 3, 4, 1]\n",
    "smokers = [\"Non-smoker\", \"Non-smoker\",\"Smoker\", \"Non-smoker\"]\n",
    "insurance_costs = [3325.0, 8886.0, 16444.0, 6420.0]\n",
    "\n",
    "for i in range(len(names)):\n",
    "    medical_records[names[i]] = {\n",
    "        \"Age\": ages[i],\n",
    "        \"Sex\": sexes[i],\n",
    "        \"BMI\": bmis[i],\n",
    "        \"Children\": childrens[i],\n",
    "        \"Smoker\": smokers[i],\n",
    "        \"Insurance_cost\": insurance_costs[i]\n",
    "    }"
   ]
  },
  {
   "cell_type": "markdown",
   "id": "fbe83204",
   "metadata": {},
   "source": [
    "15. Print `medical_records` to see the result."
   ]
  },
  {
   "cell_type": "code",
   "execution_count": 40,
   "id": "88c952f7",
   "metadata": {},
   "outputs": [
    {
     "name": "stdout",
     "output_type": "stream",
     "text": [
      "{'Marina': {'Age': 27, 'Sex': 'Female', 'BMI': 31.1, 'Children': 2, 'Smoker': 'Non-smoker', 'Insurance_cost': 6607.0}, 'Vinay': {'Age': 24, 'Sex': 'Male', 'BMI': 26.9, 'Children': 0, 'Smoker': 'Non-smoker', 'Insurance_cost': 3325.0}, 'Connie': {'Age': 43, 'Sex': 'Female', 'BMI': 25.3, 'Children': 3, 'Smoker': 'Non-smoker', 'Insurance_cost': 8886.0}, 'Isaac': {'Age': 35, 'Sex': 'Male', 'BMI': 20.6, 'Children': 4, 'Smoker': 'Smoker', 'Insurance_cost': 16444.0}, 'Valentina': {'Age': 52, 'Sex': 'Female', 'BMI': 18.7, 'Children': 1, 'Smoker': 'Non-smoker', 'Insurance_cost': 6420.0}}\n",
      "\n",
      "NAME: Marina\n",
      "\n",
      "\tAge: 27\n",
      "\tSex: Female\n",
      "\tBMI: 31.1\n",
      "\tChildren: 2\n",
      "\tSmoker: Non-smoker\n",
      "\tInsurance_cost: 6607.0\n",
      "-------------------------------------------------------------------------------------------------------------------\n",
      "\n",
      "NAME: Vinay\n",
      "\n",
      "\tAge: 24\n",
      "\tSex: Male\n",
      "\tBMI: 26.9\n",
      "\tChildren: 0\n",
      "\tSmoker: Non-smoker\n",
      "\tInsurance_cost: 3325.0\n",
      "-------------------------------------------------------------------------------------------------------------------\n",
      "\n",
      "NAME: Connie\n",
      "\n",
      "\tAge: 43\n",
      "\tSex: Female\n",
      "\tBMI: 25.3\n",
      "\tChildren: 3\n",
      "\tSmoker: Non-smoker\n",
      "\tInsurance_cost: 8886.0\n",
      "-------------------------------------------------------------------------------------------------------------------\n",
      "\n",
      "NAME: Isaac\n",
      "\n",
      "\tAge: 35\n",
      "\tSex: Male\n",
      "\tBMI: 20.6\n",
      "\tChildren: 4\n",
      "\tSmoker: Smoker\n",
      "\tInsurance_cost: 16444.0\n",
      "-------------------------------------------------------------------------------------------------------------------\n",
      "\n",
      "NAME: Valentina\n",
      "\n",
      "\tAge: 52\n",
      "\tSex: Female\n",
      "\tBMI: 18.7\n",
      "\tChildren: 1\n",
      "\tSmoker: Non-smoker\n",
      "\tInsurance_cost: 6420.0\n",
      "-------------------------------------------------------------------------------------------------------------------\n"
     ]
    }
   ],
   "source": [
    "print(medical_records)\n",
    "\n",
    "def pretty_print_records():\n",
    "    for name, data in medical_records.items():\n",
    "        print(f\"\\nNAME: {name}\\n\")\n",
    "        for k, v in data.items():\n",
    "            print(f\"\\t{k}: {v}\")\n",
    "        print('-'*115)\n",
    "        \n",
    "pretty_print_records()"
   ]
  },
  {
   "cell_type": "markdown",
   "id": "96f5661c",
   "metadata": {},
   "source": [
    "16. The `medical_records` dictionary acts like a database of medical records. Let's access a specific piece of data in `medical_records`.\n",
    "\n",
    "    Print out `Connie`'s insurance cost with the following message:\n",
    "    \n",
    "    ```\n",
    "    Connie's insurance cost is X dollars.\n",
    "    ```"
   ]
  },
  {
   "cell_type": "code",
   "execution_count": 38,
   "id": "2eb86872",
   "metadata": {},
   "outputs": [
    {
     "name": "stdout",
     "output_type": "stream",
     "text": [
      "Connie's insurance cost is 8886.0 dollars.\n"
     ]
    }
   ],
   "source": [
    "print(f\"Connie's insurance cost is {medical_records['Connie']['Insurance_cost']} dollars.\")"
   ]
  },
  {
   "cell_type": "markdown",
   "id": "9b33384f",
   "metadata": {},
   "source": [
    "17. `Vinay` has moved to a new country, and we no longer want to include him in our medical records.\n",
    "\n",
    "    Remove `Vinay` from `medical_records`."
   ]
  },
  {
   "cell_type": "code",
   "execution_count": 42,
   "id": "eeeb5b8d",
   "metadata": {},
   "outputs": [
    {
     "name": "stdout",
     "output_type": "stream",
     "text": [
      "\n",
      "NAME: Marina\n",
      "\n",
      "\tAge: 27\n",
      "\tSex: Female\n",
      "\tBMI: 31.1\n",
      "\tChildren: 2\n",
      "\tSmoker: Non-smoker\n",
      "\tInsurance_cost: 6607.0\n",
      "-------------------------------------------------------------------------------------------------------------------\n",
      "\n",
      "NAME: Connie\n",
      "\n",
      "\tAge: 43\n",
      "\tSex: Female\n",
      "\tBMI: 25.3\n",
      "\tChildren: 3\n",
      "\tSmoker: Non-smoker\n",
      "\tInsurance_cost: 8886.0\n",
      "-------------------------------------------------------------------------------------------------------------------\n",
      "\n",
      "NAME: Isaac\n",
      "\n",
      "\tAge: 35\n",
      "\tSex: Male\n",
      "\tBMI: 20.6\n",
      "\tChildren: 4\n",
      "\tSmoker: Smoker\n",
      "\tInsurance_cost: 16444.0\n",
      "-------------------------------------------------------------------------------------------------------------------\n",
      "\n",
      "NAME: Valentina\n",
      "\n",
      "\tAge: 52\n",
      "\tSex: Female\n",
      "\tBMI: 18.7\n",
      "\tChildren: 1\n",
      "\tSmoker: Non-smoker\n",
      "\tInsurance_cost: 6420.0\n",
      "-------------------------------------------------------------------------------------------------------------------\n"
     ]
    }
   ],
   "source": [
    "medical_records.pop('Vinay')\n",
    "pretty_print_records()"
   ]
  },
  {
   "cell_type": "markdown",
   "id": "0cde5d29",
   "metadata": {},
   "source": [
    "18. Let's take a closer look at each patient's medical record.\n",
    "\n",
    "    Use a `for` loop to iterate through the items of `medical_records`. For each key-value pair, print out a string that looks like the following:\n",
    "    \n",
    "    ```\n",
    "    {Name} is a {Age} year old {Sex} {Smoker} with a BMI of {BMI} and insurance cost of {Insurance_cost}\n",
    "    ```"
   ]
  },
  {
   "cell_type": "code",
   "execution_count": 44,
   "id": "39301cd2",
   "metadata": {},
   "outputs": [
    {
     "name": "stdout",
     "output_type": "stream",
     "text": [
      "Marina is a 27 year old Female Non-smoker with a BMI of 31.1 and insurance cost of 6607.0\n",
      "Connie is a 43 year old Female Non-smoker with a BMI of 25.3 and insurance cost of 8886.0\n",
      "Isaac is a 35 year old Male Smoker with a BMI of 20.6 and insurance cost of 16444.0\n",
      "Valentina is a 52 year old Female Non-smoker with a BMI of 18.7 and insurance cost of 6420.0\n"
     ]
    }
   ],
   "source": [
    "for name, data in medical_records.items():\n",
    "    print(\n",
    "        f\"{name} is a {data['Age']} year old \" +\n",
    "        f\"{data['Sex']} {data['Smoker']} with a \" + \n",
    "        f\"BMI of {data['BMI']} and insurance cost of {data['Insurance_cost']}\"\n",
    "    )"
   ]
  },
  {
   "cell_type": "markdown",
   "id": "087a263c",
   "metadata": {},
   "source": [
    "## Extra"
   ]
  },
  {
   "cell_type": "markdown",
   "id": "8e3067e6",
   "metadata": {},
   "source": [
    "19. Congratulations! In this project, you used Python dictionaries to store and update medical data for individuals.\n",
    "\n",
    "    If you'd like extra practice with dictionaries, here are some suggestions to go further with this project:\n",
    "    - Create a function called `update_medical_records()` that takes in the name of an individual as well as their medical data, and then updates the `medical_records` dictionary accordingly.\n",
    "    - Create a new dictionary of your choice - feel free to get creative!\n",
    "    \n",
    "    Happy coding!"
   ]
  },
  {
   "cell_type": "code",
   "execution_count": 48,
   "id": "ac494987",
   "metadata": {},
   "outputs": [
    {
     "name": "stdout",
     "output_type": "stream",
     "text": [
      "Trianan added to records with data:\n",
      "{'Age': 26, 'Sex': 'Male', 'BMI': 26.1, 'Children': 0, 'Smoker': 'Non-smoker', 'Insurance_cost': 3407.0}\n",
      "\n",
      "\n",
      "NAME: Marina\n",
      "\n",
      "\tAge: 27\n",
      "\tSex: Female\n",
      "\tBMI: 31.1\n",
      "\tChildren: 2\n",
      "\tSmoker: Non-smoker\n",
      "\tInsurance_cost: 6607.0\n",
      "-------------------------------------------------------------------------------------------------------------------\n",
      "\n",
      "NAME: Connie\n",
      "\n",
      "\tAge: 43\n",
      "\tSex: Female\n",
      "\tBMI: 25.3\n",
      "\tChildren: 3\n",
      "\tSmoker: Non-smoker\n",
      "\tInsurance_cost: 8886.0\n",
      "-------------------------------------------------------------------------------------------------------------------\n",
      "\n",
      "NAME: Isaac\n",
      "\n",
      "\tAge: 35\n",
      "\tSex: Male\n",
      "\tBMI: 20.6\n",
      "\tChildren: 4\n",
      "\tSmoker: Smoker\n",
      "\tInsurance_cost: 16444.0\n",
      "-------------------------------------------------------------------------------------------------------------------\n",
      "\n",
      "NAME: Valentina\n",
      "\n",
      "\tAge: 52\n",
      "\tSex: Female\n",
      "\tBMI: 18.7\n",
      "\tChildren: 1\n",
      "\tSmoker: Non-smoker\n",
      "\tInsurance_cost: 6420.0\n",
      "-------------------------------------------------------------------------------------------------------------------\n",
      "\n",
      "NAME: Trianan\n",
      "\n",
      "\tAge: 26\n",
      "\tSex: Male\n",
      "\tBMI: 26.1\n",
      "\tChildren: 0\n",
      "\tSmoker: Non-smoker\n",
      "\tInsurance_cost: 3407.0\n",
      "-------------------------------------------------------------------------------------------------------------------\n"
     ]
    }
   ],
   "source": [
    "def update_medical_records(name, data):\n",
    "    medical_records[name] = data\n",
    "    print(f\"{name} added to records with data:\\n{data}\\n\")\n",
    "\n",
    "data_trianan = {\n",
    "    \"Age\": 26,\n",
    "    \"Sex\": \"Male\",\n",
    "    \"BMI\": 26.1,\n",
    "    \"Children\": 0,\n",
    "    \"Smoker\": \"Non-smoker\",\n",
    "    \"Insurance_cost\": 3407.0\n",
    "}\n",
    "update_medical_records('Trianan', data_trianan)\n",
    "pretty_print_records()\n"
   ]
  },
  {
   "cell_type": "code",
   "execution_count": 59,
   "id": "4195bad7",
   "metadata": {},
   "outputs": [
    {
     "name": "stdout",
     "output_type": "stream",
     "text": [
      "0^2\n",
      "\tExpansion: 0\n",
      "\tEven: True\n",
      "-------------------------------------------------------------------------------------------------------------------\n",
      "1^2\n",
      "\tExpansion: 1\n",
      "\tEven: False\n",
      "-------------------------------------------------------------------------------------------------------------------\n",
      "2^2\n",
      "\tExpansion: 4\n",
      "\tEven: True\n",
      "-------------------------------------------------------------------------------------------------------------------\n",
      "3^2\n",
      "\tExpansion: 9\n",
      "\tEven: False\n",
      "-------------------------------------------------------------------------------------------------------------------\n",
      "4^2\n",
      "\tExpansion: 16\n",
      "\tEven: True\n",
      "-------------------------------------------------------------------------------------------------------------------\n",
      "5^2\n",
      "\tExpansion: 25\n",
      "\tEven: False\n",
      "-------------------------------------------------------------------------------------------------------------------\n",
      "6^2\n",
      "\tExpansion: 36\n",
      "\tEven: True\n",
      "-------------------------------------------------------------------------------------------------------------------\n",
      "7^2\n",
      "\tExpansion: 49\n",
      "\tEven: False\n",
      "-------------------------------------------------------------------------------------------------------------------\n",
      "8^2\n",
      "\tExpansion: 64\n",
      "\tEven: True\n",
      "-------------------------------------------------------------------------------------------------------------------\n",
      "9^2\n",
      "\tExpansion: 81\n",
      "\tEven: False\n",
      "-------------------------------------------------------------------------------------------------------------------\n",
      "10^2\n",
      "\tExpansion: 100\n",
      "\tEven: True\n",
      "-------------------------------------------------------------------------------------------------------------------\n",
      "11^2\n",
      "\tExpansion: 121\n",
      "\tEven: False\n",
      "-------------------------------------------------------------------------------------------------------------------\n",
      "12^2\n",
      "\tExpansion: 144\n",
      "\tEven: True\n",
      "-------------------------------------------------------------------------------------------------------------------\n",
      "13^2\n",
      "\tExpansion: 169\n",
      "\tEven: False\n",
      "-------------------------------------------------------------------------------------------------------------------\n",
      "14^2\n",
      "\tExpansion: 196\n",
      "\tEven: True\n",
      "-------------------------------------------------------------------------------------------------------------------\n",
      "15^2\n",
      "\tExpansion: 225\n",
      "\tEven: False\n",
      "-------------------------------------------------------------------------------------------------------------------\n",
      "16^2\n",
      "\tExpansion: 256\n",
      "\tEven: True\n",
      "-------------------------------------------------------------------------------------------------------------------\n",
      "17^2\n",
      "\tExpansion: 289\n",
      "\tEven: False\n",
      "-------------------------------------------------------------------------------------------------------------------\n",
      "18^2\n",
      "\tExpansion: 324\n",
      "\tEven: True\n",
      "-------------------------------------------------------------------------------------------------------------------\n",
      "19^2\n",
      "\tExpansion: 361\n",
      "\tEven: False\n",
      "-------------------------------------------------------------------------------------------------------------------\n",
      "20^2\n",
      "\tExpansion: 400\n",
      "\tEven: True\n",
      "-------------------------------------------------------------------------------------------------------------------\n",
      "21^2\n",
      "\tExpansion: 441\n",
      "\tEven: False\n",
      "-------------------------------------------------------------------------------------------------------------------\n",
      "22^2\n",
      "\tExpansion: 484\n",
      "\tEven: True\n",
      "-------------------------------------------------------------------------------------------------------------------\n",
      "23^2\n",
      "\tExpansion: 529\n",
      "\tEven: False\n",
      "-------------------------------------------------------------------------------------------------------------------\n",
      "24^2\n",
      "\tExpansion: 576\n",
      "\tEven: True\n",
      "-------------------------------------------------------------------------------------------------------------------\n",
      "Total even numbers: 13\n",
      "Total odd numbers:  12\n"
     ]
    }
   ],
   "source": [
    "squares = {\n",
    "    str(n)+'^2':{\"Expansion\":n**2, \"Even\":(True if (n**2)%2 == 0 else False)} for n in range(25)\n",
    "}\n",
    "total_evens = 0\n",
    "total_odds = 0\n",
    "for n, attributes in squares.items():\n",
    "    print(n)\n",
    "    if attributes['Even'] == True:\n",
    "        total_evens += 1\n",
    "    else: \n",
    "        total_odds += 1\n",
    "        \n",
    "    for attribute, value in attributes.items():\n",
    "        print(f\"\\t{attribute}: {value}\")\n",
    "    print('-'*115)\n",
    "print(f\"Total even numbers: {total_evens}\\nTotal odd numbers:  {total_odds}\")\n",
    "# This is because any odd-number times an odd-number will yield an odd square. "
   ]
  }
 ],
 "metadata": {
  "kernelspec": {
   "display_name": "Python 3 (ipykernel)",
   "language": "python",
   "name": "python3"
  },
  "language_info": {
   "codemirror_mode": {
    "name": "ipython",
    "version": 3
   },
   "file_extension": ".py",
   "mimetype": "text/x-python",
   "name": "python",
   "nbconvert_exporter": "python",
   "pygments_lexer": "ipython3",
   "version": "3.10.9"
  }
 },
 "nbformat": 4,
 "nbformat_minor": 5
}
