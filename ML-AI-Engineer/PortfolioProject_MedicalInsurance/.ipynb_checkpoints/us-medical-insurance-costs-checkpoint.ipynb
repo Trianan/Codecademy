{
 "cells": [
  {
   "cell_type": "markdown",
   "metadata": {},
   "source": [
    "# U.S. Medical Insurance Costs"
   ]
  },
  {
   "cell_type": "markdown",
   "metadata": {},
   "source": [
    "## Project Scope:\n",
    "\n",
    "\n",
    "      This project analyzes a CSV dataset containing data\n",
    "    for each member of the sample population in the following format:\n",
    "    \n",
    "            age,sex,bmi,children,smoker,region,charges\n",
    "      \n",
    "      We will compare how each variable affects the insurance cost (charges) of the member, \n",
    "    in order to rank each variable by least-to-greatest effect on cost.\n",
    "    \n",
    "      Once that is determined, we can determine which course of action \n",
    "    a member can take to lower their insurance cost based on their current data.\n",
    "    For example: say smoking is determined to have the greatest effect on insurance cost;\n",
    "    a non-smoking member wants to lower their insurance cost,\n",
    "    we should give them the best option that applies to their data.\n",
    "    \n",
    "    To do this, we will...\n",
    "        \n",
    "        - Collect member data for each variable from the dataset.\n",
    "        \n",
    "        - Compare how much a change in each variable affects the expected cost; this will\n",
    "        require different treatment for categorical and numerical data.\n",
    "        \n",
    "        - Order from least-to_greatest all variables by the change in insurance cost for each variables value.\n",
    "        Numerical variables may be ranked by the magnitude of the slope of their line of best fit,\n",
    "        while categorical variables may be ranked by the difference in average costs.\n",
    "        \n",
    "        - Write a function for determining which factor likely has the greatest effect on the the\n",
    "        insurance cost for a given member based on their data.\n",
    "***"
   ]
  },
  {
   "cell_type": "markdown",
   "metadata": {},
   "source": [
    "## Collecting Data:\n",
    "\n",
    "  ### Plan:\n",
    "  \n",
    "      We will use the csv library in order to parse the dataset, and store the\n",
    "     member data for each variable in a structure that maps variable value to insurance cost.\n",
    "     We will then store each structure in its corresponding list, to be analyzed individually."
   ]
  },
  {
   "cell_type": "code",
   "execution_count": 85,
   "metadata": {},
   "outputs": [
    {
     "name": "stdout",
     "output_type": "stream",
     "text": [
      "Age\n",
      "\t('19', '16884.924')\n",
      "\t('18', '1725.5523')\n",
      "\t('28', '4449.462')\n",
      "\t('33', '21984.47061')\n",
      "\t('32', '3866.8552')\n",
      "\t('31', '3756.6216')\n",
      "\t('46', '8240.5896')\n",
      "\t('37', '7281.5056')\n",
      "\t('37', '6406.4107')\n",
      "\t('60', '28923.13692')\n",
      "\tPlus 1328 items...\n",
      "----------------------------------------------------------------------------------------------------\n",
      "Sex\n",
      "\t('female', '16884.924')\n",
      "\t('male', '1725.5523')\n",
      "\t('male', '4449.462')\n",
      "\t('male', '21984.47061')\n",
      "\t('male', '3866.8552')\n",
      "\t('female', '3756.6216')\n",
      "\t('female', '8240.5896')\n",
      "\t('female', '7281.5056')\n",
      "\t('male', '6406.4107')\n",
      "\t('female', '28923.13692')\n",
      "\tPlus 1328 items...\n",
      "----------------------------------------------------------------------------------------------------\n",
      "Bmi\n",
      "\t('27.9', '16884.924')\n",
      "\t('33.77', '1725.5523')\n",
      "\t('33', '4449.462')\n",
      "\t('22.705', '21984.47061')\n",
      "\t('28.88', '3866.8552')\n",
      "\t('25.74', '3756.6216')\n",
      "\t('33.44', '8240.5896')\n",
      "\t('27.74', '7281.5056')\n",
      "\t('29.83', '6406.4107')\n",
      "\t('25.84', '28923.13692')\n",
      "\tPlus 1328 items...\n",
      "----------------------------------------------------------------------------------------------------\n",
      "Children\n",
      "\t('0', '16884.924')\n",
      "\t('1', '1725.5523')\n",
      "\t('3', '4449.462')\n",
      "\t('0', '21984.47061')\n",
      "\t('0', '3866.8552')\n",
      "\t('0', '3756.6216')\n",
      "\t('1', '8240.5896')\n",
      "\t('3', '7281.5056')\n",
      "\t('2', '6406.4107')\n",
      "\t('0', '28923.13692')\n",
      "\tPlus 1328 items...\n",
      "----------------------------------------------------------------------------------------------------\n",
      "Smoker\n",
      "\t('yes', '16884.924')\n",
      "\t('no', '1725.5523')\n",
      "\t('no', '4449.462')\n",
      "\t('no', '21984.47061')\n",
      "\t('no', '3866.8552')\n",
      "\t('no', '3756.6216')\n",
      "\t('no', '8240.5896')\n",
      "\t('no', '7281.5056')\n",
      "\t('no', '6406.4107')\n",
      "\t('no', '28923.13692')\n",
      "\tPlus 1328 items...\n",
      "----------------------------------------------------------------------------------------------------\n",
      "Region\n",
      "\t('southwest', '16884.924')\n",
      "\t('southeast', '1725.5523')\n",
      "\t('southeast', '4449.462')\n",
      "\t('northwest', '21984.47061')\n",
      "\t('northwest', '3866.8552')\n",
      "\t('southeast', '3756.6216')\n",
      "\t('southeast', '8240.5896')\n",
      "\t('northwest', '7281.5056')\n",
      "\t('northeast', '6406.4107')\n",
      "\t('northwest', '28923.13692')\n",
      "\tPlus 1328 items...\n",
      "----------------------------------------------------------------------------------------------------\n"
     ]
    }
   ],
   "source": [
    "import csv, math\n",
    "import matplotlib.pyplot as plot\n",
    "\n",
    "# These map values to insurance costs:\n",
    "value_to_cost = {\n",
    "    \"age\"      : [],\n",
    "    \"sex\"      : [],\n",
    "    \"bmi\"      : [],\n",
    "    \"children\" : [],\n",
    "    \"smoker\"   : [],\n",
    "    \"region\"   : []\n",
    "}\n",
    "\n",
    "\n",
    "with open('./insurance.csv', newline='') as insurance_data:\n",
    "    csv_reader = csv.DictReader(insurance_data)\n",
    "    for row in csv_reader:\n",
    "        for key, value in row.items():\n",
    "            if key != 'charges':\n",
    "                value_to_cost[key].append( (value, row['charges']) )\n",
    "\n",
    "\n",
    "entries_displayed = 10\n",
    "for var, data in value_to_cost.items():\n",
    "    print(var.title())\n",
    "    for i in range(entries_displayed):\n",
    "        print(f'\\t{data[i]}')\n",
    "    print(f\"\\tPlus {len(data) - entries_displayed} items...\\n\" + '-'*100)\n"
   ]
  },
  {
   "cell_type": "markdown",
   "metadata": {},
   "source": [
    "#### Follow-up:\n",
    "    \n",
    "      Now we have our data in the form of points which\n",
    "    map values to insurance costs, contained in lists correspond to the\n",
    "    variable type we want to analyze individually.\n",
    "    \n",
    "      We can now begin to analyze our variables effect on costs.\n",
    "    \n",
    "***"
   ]
  },
  {
   "cell_type": "markdown",
   "metadata": {},
   "source": [
    "## Analysis:\n",
    "\n",
    "     We will examine each variable in the order they appear within the dataset.\n",
    "    The goal will be to calculate the average change in cost for changes in numerical variables;\n",
    "    categorical variables will require special consideration when determining how to calculate this\n",
    "    value."
   ]
  },
  {
   "cell_type": "code",
   "execution_count": 86,
   "metadata": {},
   "outputs": [],
   "source": [
    "# Defining some helper functions:\n",
    "\n",
    "def line_y(m, b, x):\n",
    "    return m*float(x) + b\n",
    "\n",
    "def get_error(m, b, point):\n",
    "    point_x, point_y = point\n",
    "    return abs(line_y(m, b, float(point_x)) - float(point_y))\n",
    "\n",
    "def get_total_error(m, b, points):\n",
    "    total_error = 0\n",
    "    for point in points:\n",
    "        total_error += get_error(m, b, point)\n",
    "    return total_error\n",
    "\n",
    "def line_of_best_fit(points, m_min=-10, m_max=10, m_step=0.1, b_step=0.1):\n",
    "    least_error = float(1000000000000000000)\n",
    "    best_m, best_b = 0, 0\n",
    "    \n",
    "    b_min, b_max = least_error, 0\n",
    "    for _, y in points:\n",
    "        y = float(y)\n",
    "        if y > b_max:\n",
    "            b_max = y\n",
    "        if y < b_min:\n",
    "            b_min = y\n",
    "    print(f\"Least possible b-value: {b_min}\\nGreatest possible b-value: {b_max}\\n\")\n",
    "    \n",
    "    for m in [0.1*n for n in range(int(m_min*10), int(m_max*10), int(m_step*10))]:\n",
    "        for b in [0.1*n for n in range(int(b_min*10), int(b_max*10), int(b_step*10))]:\n",
    "            line_error = get_total_error(m, b, points)\n",
    "            \n",
    "            if line_error < least_error:\n",
    "                best_m, best_b, least_error = m, b, line_error\n",
    "    print('-'*115, f'\\nLine of best fit: y = {best_m}x + {best_b} ---> Error: {least_error}')\n",
    "    return (best_m, best_b, least_error)\n",
    "\n",
    "def get_median(values):\n",
    "    values.sort()\n",
    "    if len(values) % 2 == 0:\n",
    "        return (values[int(len(values)/2) - 1] + values[int(len(values)/2)]) / 2\n",
    "    else:\n",
    "        return values[math.floor(len(values) / 2)]"
   ]
  },
  {
   "cell_type": "markdown",
   "metadata": {},
   "source": [
    "***\n",
    "\n",
    "### Age:\n",
    "      \n",
    "      Since age is a numerical variable, we can simply map sorted ages to their corresponding cost,\n",
    "      and determine a line of best fit for this mapping. The slope of this line will determine the average\n",
    "      change in insurance cost for a change in age.\n",
    "      \n",
    "      First, lets visualize our data as a scatter-plot with Matplotlib:"
   ]
  },
  {
   "cell_type": "code",
   "execution_count": 87,
   "metadata": {},
   "outputs": [
    {
     "data": {
      "text/plain": [
       "(15.0, 80.0)"
      ]
     },
     "execution_count": 87,
     "metadata": {},
     "output_type": "execute_result"
    },
    {
     "data": {
      "image/png": "[encoded data removed]",
      "text/plain": [
       "<Figure size 640x480 with 1 Axes>"
      ]
     },
     "metadata": {},
     "output_type": "display_data"
    }
   ],
   "source": [
    "x, y = [], []\n",
    "for age, cost in value_to_cost['age']:\n",
    "    x.append(int(age))\n",
    "    y.append(float(cost))\n",
    "\n",
    "fig, ax = plot.subplots()\n",
    "ax.scatter(x,y,s=0.5)\n",
    "ax.set_ylim(0, 75000)\n",
    "ax.set_xlim(15, 80)"
   ]
  },
  {
   "cell_type": "markdown",
   "metadata": {},
   "source": [
    "  Notice how the insurance costs seems to generally increase with age, at a roughly linear rate for our dateset. \n",
    "  \n",
    "  It's also worth noting the three separate \"bands\" of insurance cost data, and the fact that our dataset only contains data for people with ages between 18 and 65. The next step will be to calculate a line of best fit, and plot it along with the data in order to investigate how these factors will affect our plan for ranking this variables."
   ]
  },
  {
   "cell_type": "code",
   "execution_count": null,
   "metadata": {
    "scrolled": true
   },
   "outputs": [
    {
     "name": "stdout",
     "output_type": "stream",
     "text": [
      "Least possible b-value: 1121.8739\n",
      "Greatest possible b-value: 63770.42801\n",
      "\n"
     ]
    }
   ],
   "source": [
    "# Calculating and analyzing line of best fit:\n",
    "m, b, error = line_of_best_fit(value_to_cost['age'], 0, 10000, 50, 100)"
   ]
  },
  {
   "cell_type": "markdown",
   "metadata": {},
   "source": [
    "  This line of best fit is the result of trail-and-error with the line_of_best_fit functions arguments. \n",
    "This included setting the minimum and maximum possible slopes to 0, and 10000, \n",
    "and setting the steps the function increments the m and b values in the linear equation y = mx + b,\n",
    "in order to better suit the dataset.\n",
    "\n",
    "  The plotted line in the figure below appear to roughly correlate with the data in the lowest band (a more suitable model would likely be at least a quadratic function). The figures in the higher bands seem to correlate more with the line of best fit; however this is from personal observation and not direct calculation. \n",
    "  \n",
    "  Nonetheless, this model will serve the purposes of this project, as we only care about the rate of change in insurance cost for each variable as a rough estimate in order to compare its effect with other variables'."
   ]
  },
  {
   "cell_type": "code",
   "execution_count": null,
   "metadata": {},
   "outputs": [],
   "source": [
    "z = [int(n) for n,_ in value_to_cost['age']]\n",
    "w = [m*n + b for n in z]\n",
    "fig, ax = plot.subplots()\n",
    "ax.scatter(x, y, s=0.5)\n",
    "ax.scatter(z, w, s=0.5)\n",
    "print(f\"Line of best fit: y = {m}x + {b}\")"
   ]
  },
  {
   "cell_type": "markdown",
   "metadata": {},
   "source": [
    "***\n",
    "\n",
    "### Sex:\n",
    "    \n",
    "      As a binary categorical variable in our dataset, \n",
    "    each variable can be averaged individually, then compared. <-- edit plz"
   ]
  },
  {
   "cell_type": "code",
   "execution_count": null,
   "metadata": {},
   "outputs": [],
   "source": [
    "frequency_males, males_cost = 0, 0.0\n",
    "frequency_females, females_cost = 0, 0.0\n",
    "for sex, cost in value_to_cost['sex']:\n",
    "    if sex == 'male':\n",
    "        frequency_males += 1\n",
    "        males_cost += float(cost)\n",
    "    elif sex == 'female':\n",
    "        frequency_females += 1\n",
    "        females_cost += float(cost)\n",
    "    else:\n",
    "        print(f'Unreadable data: {sex}, {cost}')\n",
    "print(\n",
    "    f\"Total males: {frequency_males}, total cost: ${males_cost}\\n\" +\n",
    "    f\"Total females: {frequency_females}, total cost: ${females_cost}\"\n",
    ")"
   ]
  },
  {
   "cell_type": "code",
   "execution_count": null,
   "metadata": {},
   "outputs": [],
   "source": [
    "# Ratio, proportion analysis for sex and cost:\n",
    "ratio_mf = frequency_males / frequency_females\n",
    "proportion_males = frequency_males / (frequency_males + frequency_females)\n",
    "\n",
    "ratio_mf_cost = males_cost / females_cost\n",
    "proportion_m_cost = males_cost / (males_cost + females_cost)\n",
    "\n",
    "male_cost_mean = males_cost / frequency_males\n",
    "female_cost_mean = females_cost / frequency_females\n",
    "\n",
    "m_floats = []\n",
    "f_floats = []\n",
    "for sex,cost in value_to_cost['sex']:\n",
    "    if sex == 'male':\n",
    "        m_floats.append( float(cost) )\n",
    "    elif sex == 'female':\n",
    "        f_floats.append( float(cost) )\n",
    "        \n",
    "male_cost_median = get_median(m_floats)\n",
    "female_cost_median = get_median(f_floats)\n",
    "\n",
    "diff_mean_cost = male_cost_mean - female_cost_mean\n",
    "diff_median_cost = male_cost_median - female_cost_median\n",
    "\n",
    "print(\n",
    "f'''\n",
    "Ratio of males to females: {ratio_mf}\n",
    "Percentage of males to total population: {round(proportion_males * 100, 2)}%\n",
    "\n",
    "Ratio of insurance cost of males to females: {ratio_mf_cost}\n",
    "Percentage of male insurance cost to total cost in dataset: {round(proportion_m_cost * 100, 2)}%\n",
    "\n",
    "Mean Male Cost: ${round(male_cost_mean, 2)}\n",
    "Median Male Cost: ${round(male_cost_median, 2)}\n",
    "\n",
    "Mean Female Cost: ${round(female_cost_mean, 2)}\n",
    "Median Female Cost: ${round(female_cost_median, 2)}\n",
    "\n",
    "Difference in mean cost (male - female): ${round(diff_mean_cost, 2)}\n",
    "Difference in median cost (male - female): ${round(diff_median_cost, 2)}\n",
    "'''\n",
    ")"
   ]
  },
  {
   "cell_type": "markdown",
   "metadata": {},
   "source": [
    "#### Follow up:\n",
    "      According to this dataset, the mean costs of males and females respectively are: $13956.75 and $12569.58.\n",
    "    We can see according to the mean, that males pay $1387.17 more in insurance costs.\n",
    "    \n",
    "      According to the median, males pay $43.35 less in insurance costs,\n",
    "    which may suggest that there are outliers influencing the mean.\n",
    "    \n",
    "      This should also be noted when considering that \n",
    "    males consist of 50.52% of the sample population,\n",
    "    but pay 53.14% of the total insurance in the dataset.\n",
    "\n",
    "***\n",
    "\n",
    "### BMI\n",
    "\n",
    "      We will plot the values using Pyplot in a similar fashion to how we treated the age variable, then create\n",
    "    a line of best fit for the resulting scatterplot."
   ]
  },
  {
   "cell_type": "code",
   "execution_count": null,
   "metadata": {},
   "outputs": [],
   "source": [
    "x, y = [], []\n",
    "for bmi, cost in value_to_cost['bmi']:\n",
    "    x.append(float(bmi))\n",
    "    y.append(float(cost))\n",
    "\n",
    "fig, ax = plot.subplots()\n",
    "ax.scatter(x,y,s=0.5)\n",
    "ax.set_ylim(0, 75000)\n",
    "ax.set_xlim(10, 60)"
   ]
  },
  {
   "cell_type": "code",
   "execution_count": null,
   "metadata": {},
   "outputs": [],
   "source": [
    "m, b, error = line_of_best_fit(value_to_cost['bmi'], 0, 10000, 50, 100)\n",
    "\n",
    "z = [float(n) for n,_ in value_to_cost['bmi']]\n",
    "w = [m*n + b for n in z]\n",
    "fig, ax = plot.subplots()\n",
    "ax.scatter(x, y, s=0.5)\n",
    "ax.plot(z, w)"
   ]
  },
  {
   "cell_type": "code",
   "execution_count": null,
   "metadata": {},
   "outputs": [],
   "source": [
    "total_bmi = 0.0\n",
    "total_cost = 0.0\n",
    "len_data = len(value_to_cost['bmi'])\n",
    "bmi_floats, cost_floats = [], []\n",
    "\n",
    "for bmi, cost in value_to_cost['bmi']:\n",
    "    total_bmi += float(bmi)\n",
    "    total_cost += float(cost)\n",
    "    bmi_floats.append(float(bmi))\n",
    "    cost_floats.append(float(cost))\n",
    "\n",
    "mean_bmi = round(total_bmi / len_data, 2)\n",
    "mean_cost = round(total_cost / len_data, 2)\n",
    "\n",
    "median_bmi = get_median(bmi_floats)\n",
    "median_cost = get_median(cost_floats)\n",
    "\n",
    "print(\n",
    "f'''\n",
    "Mean BMI: {mean_bmi}\n",
    "Mean cost: {mean_cost}\n",
    "Median BMI: {median_bmi}\n",
    "Median cost: {median_cost}\n",
    "'''\n",
    ")"
   ]
  },
  {
   "cell_type": "markdown",
   "metadata": {},
   "source": [
    "#### Follow up:\n",
    "\n",
    "      It seems like BMI has less of an effect on insurance cost according to our line of best fit;\n",
    "    however, there is a notable jump in high insurance costs around the BMI = 30 mark.\n",
    "    \n",
    "      This is notable because the CDC defines obesity as any BMI above 30.0; it makes sense that higher\n",
    "    insurance rates correlated with people who would qualify as obese according to this standard.\n",
    "    \n",
    "      Its harder to speculate on the people who seemed to pay\n",
    "    insurance costs closer to the mean and median costs.\n",
    "***\n",
    " \n",
    "### Number of Children"
   ]
  },
  {
   "cell_type": "code",
   "execution_count": null,
   "metadata": {},
   "outputs": [],
   "source": [
    "x, y = [], []\n",
    "for num_children, cost in value_to_cost['children']:\n",
    "    x.append(int(num_children))\n",
    "    y.append(float(cost))\n",
    "\n",
    "fig, ax = plot.subplots()\n",
    "ax.scatter(x,y,s=0.5)\n",
    "ax.set_ylim(0, 75000)\n",
    "ax.set_xlim(-1, 7)"
   ]
  },
  {
   "cell_type": "code",
   "execution_count": null,
   "metadata": {},
   "outputs": [],
   "source": [
    "m, b, error = line_of_best_fit(value_to_cost['children'], -25000, 0, 50, 100)\n",
    "\n",
    "z = [int(n) for n,_ in value_to_cost['children']]\n",
    "w = [m*n + b for n in z]\n",
    "fig, ax = plot.subplots()\n",
    "ax.scatter(x, y, s=0.5)\n",
    "ax.plot(z, w)"
   ]
  },
  {
   "cell_type": "markdown",
   "metadata": {},
   "source": [
    "#### Follow-up:\n",
    "    \n",
    "      It seems that there is a very slight decrease in cost per increase in number of children.\n",
    "    Keeping in mind that the mean cost is $13270.42 and the median cost is $9382.033, it seems this\n",
    "    data somewhat matches up with insurance costs being clustered in three bands as shown\n",
    "    in the age variable analysis, which suggests another factor is having a greater effect on insurance costs,\n",
    "    that is independant of age or number of children.\n",
    "    \n",
    "***"
   ]
  },
  {
   "cell_type": "markdown",
   "metadata": {},
   "source": [
    "### Smoker Status\n"
   ]
  },
  {
   "cell_type": "code",
   "execution_count": null,
   "metadata": {},
   "outputs": [],
   "source": [
    "smokers = 0\n",
    "nonsmokers = 0\n",
    "smokers_cost = 0.0\n",
    "nonsmokers_cost = 0.0\n",
    "for status, cost in value_to_cost['smoker']:\n",
    "    if status == 'yes':\n",
    "        smokers += 1\n",
    "        smokers_cost += float(cost)\n",
    "    elif status == 'no':\n",
    "        nonsmokers += 1\n",
    "        nonsmokers_cost += float(cost)\n",
    "        \n",
    "smokers_nonsmokers_ratio = smokers / nonsmokers\n",
    "smokers_proportion = smokers / len_data\n",
    "\n",
    "smokers_nonsmokers_cost_ratio = smokers_cost / nonsmokers_cost\n",
    "smokers_cost_proportion = smokers_cost / total_cost\n",
    "\n",
    "print(\n",
    "f'''\n",
    "Ratio of smokers to non-smokers: {smokers_nonsmokers_ratio}:1\n",
    "Percentage of smokers in total population: {round(smokers_proportion * 100, 2)}%\n",
    "\n",
    "Ratio of smokers cost to non-smokers cost: {smokers_nonsmokers_cost_ratio}:1\n",
    "Percentage of smokers cost in total cost: {round(smokers_cost_proportion * 100, 2)}%\n",
    "'''\n",
    ")"
   ]
  },
  {
   "cell_type": "code",
   "execution_count": null,
   "metadata": {},
   "outputs": [],
   "source": [
    "smoker_cost_mean = smokers_cost / smokers\n",
    "nonsmoker_cost_mean = nonsmokers_cost / nonsmokers\n",
    "\n",
    "sc_floats = [float(cost) for status,cost in value_to_cost['smoker'] if status == 'yes']\n",
    "nsc_floats = [float(cost) for status,cost in value_to_cost['smoker'] if status == 'no']\n",
    "smoker_cost_median = get_median(sc_floats)\n",
    "nonsmoker_cost_median = get_median(nsc_floats)\n",
    "\n",
    "diff_smoker_nonsmoker_mean = smoker_cost_mean - nonsmoker_cost_mean\n",
    "diff_smoker_nonsmoker_median = smoker_cost_median - nonsmoker_cost_median\n",
    "\n",
    "print(\n",
    "f'''\n",
    "Mean insurance cost for smokers: ${round(smoker_cost_mean, 2)}\n",
    "Mean insurance cost for nonsmokers: ${round(nonsmoker_cost_mean, 2)}\n",
    "\n",
    "Median insurance cost for smokers: ${round(smoker_cost_median, 2)}\n",
    "Median insurance cost for nonsmokers: ${round(nonsmoker_cost_median, 2)}\n",
    "\n",
    "Difference in mean insurance cost of smokers and nonsmokers: ${round(diff_smoker_nonsmoker_mean, 2)}\n",
    "Difference in mean insurance cost of smokers and nonsmokers: ${round(diff_smoker_nonsmoker_median, 2)}\n",
    "'''\n",
    ")"
   ]
  },
  {
   "cell_type": "markdown",
   "metadata": {},
   "source": [
    "#### Follow up:\n",
    "    \n",
    "      It's clear that smokers on average pay far more in insurance than nonsmokers;\n",
    "    they make up about a fifth of the total population, but account for \n",
    "    almost half of the total insurance costs.\n",
    "    \n",
    "      Smokers on average pay $23615.96 more according to this dataset,\n",
    "    with a median cost of $27110.94, while both measures of cost for nonsmokers are below $9000.\n",
    "    \n",
    "      This suggests that smoking has a significant factor on insurance cost.\n",
    "\n",
    "***"
   ]
  },
  {
   "cell_type": "markdown",
   "metadata": {},
   "source": [
    "### Region\n",
    "\n"
   ]
  },
  {
   "cell_type": "code",
   "execution_count": null,
   "metadata": {},
   "outputs": [],
   "source": [
    "total_ne, total_se, total_sw, total_nw = 0, 0, 0, 0\n",
    "total_cost_ne, total_cost_se, total_cost_sw, total_cost_nw = 0.0, 0.0, 0.0, 0.0\n",
    "ne_floats, se_floats, sw_floats, nw_floats = [], [], [], []\n",
    "for region, cost in value_to_cost['region']:\n",
    "    match region:\n",
    "        case 'northeast':\n",
    "            total_ne += 1\n",
    "            total_cost_ne += float(cost)\n",
    "            ne_floats.append(float(cost))\n",
    "        case 'southeast':\n",
    "            total_se += 1\n",
    "            total_cost_se += float(cost)\n",
    "            se_floats.append(float(cost))\n",
    "        case 'southwest':\n",
    "            total_sw += 1\n",
    "            total_cost_sw += float(cost)\n",
    "            sw_floats.append(float(cost))\n",
    "        case 'northwest':\n",
    "            total_nw += 1\n",
    "            total_cost_nw += float(cost)\n",
    "            nw_floats.append(float(cost))\n",
    "        case other:\n",
    "            pass\n",
    "        \n",
    "mean_cost_ne = total_cost_ne / total_ne\n",
    "mean_cost_se = total_cost_se / total_se\n",
    "mean_cost_sw = total_cost_sw / total_sw\n",
    "mean_cost_nw = total_cost_nw / total_nw\n",
    "        \n",
    "region_floats = [ne_floats, se_floats, sw_floats, nw_floats]\n",
    "region_medians = []\n",
    "for region in region_floats:\n",
    "    region_medians.append(round(get_median(region), 2))\n",
    "    \n",
    "median_cost_ne, median_cost_se, median_cost_sw, median_cost_nw = region_medians\n",
    "\n",
    "lowest_mean_cost = min(mean_cost_ne, mean_cost_se, mean_cost_sw, mean_cost_nw)\n",
    "highest_mean_cost = max(mean_cost_ne, mean_cost_se, mean_cost_sw, mean_cost_nw)\n",
    "\n",
    "lowest_median_cost = min(median_cost_ne, median_cost_se, median_cost_sw, median_cost_nw)\n",
    "highest_median_cost = max(median_cost_ne, median_cost_se, median_cost_sw, median_cost_nw)\n",
    "\n",
    "diff_mean_cost_ew = ((mean_cost_ne + mean_cost_se) - (mean_cost_nw + mean_cost_sw)) / 2\n",
    "diff_median_cost_ew = ((median_cost_ne + median_cost_se) - (median_cost_nw + median_cost_sw)) / 2\n",
    "\n",
    "print(\n",
    "f'''\n",
    "Total northeast population: {total_ne}\n",
    "Percentage northeast to total population: {round((total_ne / len_data) * 100, 2)}%\n",
    "Total insurance cost of northeast: ${round(total_cost_ne, 2)}\n",
    "Mean insurance cost of northeast: ${round(mean_cost_ne, 2)}\n",
    "Median insurance cost of northeast: ${median_cost_ne}\n",
    "\n",
    "Total southeast population: {total_se}\n",
    "Percentage southeast to total population: {round((total_se / len_data) * 100, 2)}%\n",
    "Total insurance cost of southeast: ${round(total_cost_se, 2)}\n",
    "Mean insurance cost of southeast: ${round(mean_cost_se,2)}\n",
    "Median insurance cost of southeast: ${median_cost_se}\n",
    "\n",
    "Total southwest population: {total_sw}\n",
    "Percentage southwest to total population: {round((total_sw / len_data) * 100, 2)}%\n",
    "Total insurance cost of southwest: ${round(total_cost_sw, 2)}\n",
    "Mean insurance cost of southwest: ${round(mean_cost_sw, 2)}\n",
    "Median insurance cost of southwest: ${median_cost_sw}\n",
    "\n",
    "Total northwest population: {total_nw}\n",
    "Percentage northwest to total population: {round((total_nw / len_data) * 100, 2)}%\n",
    "Total insurance cost of northwest: ${round(total_cost_nw, 2)}\n",
    "Mean insurance cost of northwest: ${round(mean_cost_nw, 2)}\n",
    "Median insurance cost of northwest: ${median_cost_nw}\n",
    "\n",
    "Lowest mean cost: ${round(lowest_mean_cost, 2)} (southwest)\n",
    "Highest mean cost: ${round(highest_mean_cost, 2)} (southeast)\n",
    "\n",
    "Lowest median cost: ${round(lowest_median_cost, 2)} (southwest)\n",
    "Highest median cost: ${round(highest_median_cost, 2)} (northeast)\n",
    "\n",
    "Difference in average mean cost for eastern and western regions (east - west): ${round(diff_mean_cost_ew, 2)}\n",
    "Difference in average median cost for eastern and western regions (east - west): ${round(diff_median_cost_ew, 2)}\n",
    "'''\n",
    ")"
   ]
  },
  {
   "cell_type": "markdown",
   "metadata": {},
   "source": [
    "#### Follow up:\n",
    "\n",
    "      It seems that the western regions in our dataset pay similar mean insurance costs,\n",
    "    with both between $12300 and $12500, and median costs lying between $8700 and $9000.\n",
    "    \n",
    "      This is generally lower than the eastern regions, with the southeast having the highest\n",
    "    mean cost of $14735.41, and the northeast having the highest median cost of $10057.65.\n",
    "    \n",
    "      It follows that according to our dataset, living on the east side of the regions in our dataset\n",
    "    is correlated with higher insurance rates. Taking the average of the mean and median costs \n",
    "    for the eastern and western regions respectively, we find that members in western regions in general \n",
    "    pay less in insurance than members in eastern regions.\n",
    "    \n",
    "***"
   ]
  },
  {
   "cell_type": "markdown",
   "metadata": {},
   "source": [
    "## Ranking our Variables\n",
    "\n"
   ]
  }
 ],
 "metadata": {
  "kernelspec": {
   "display_name": "Python 3 (ipykernel)",
   "language": "python",
   "name": "python3"
  },
  "language_info": {
   "codemirror_mode": {
    "name": "ipython",
    "version": 3
   },
   "file_extension": ".py",
   "mimetype": "text/x-python",
   "name": "python",
   "nbconvert_exporter": "python",
   "pygments_lexer": "ipython3",
   "version": "3.10.9"
  }
 },
 "nbformat": 4,
 "nbformat_minor": 4
}
